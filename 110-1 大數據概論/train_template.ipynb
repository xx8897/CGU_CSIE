{
  "nbformat": 4,
  "nbformat_minor": 0,
  "metadata": {
    "colab": {
      "name": "train_template.ipynb",
      "provenance": []
    },
    "kernelspec": {
      "name": "python3",
      "display_name": "Python 3"
    },
    "language_info": {
      "name": "python"
    },
    "accelerator": "GPU"
  },
  "cells": [
    {
      "cell_type": "code",
      "execution_count": 1,
      "metadata": {
        "colab": {
          "base_uri": "https://localhost:8080/"
        },
        "id": "OKOXsHkDh_R6",
        "outputId": "d68f099d-8bc2-4dd2-fb63-25a7df4f46e6"
      },
      "outputs": [
        {
          "output_type": "stream",
          "name": "stdout",
          "text": [
            "Mounted at /content/gdrive\n"
          ]
        }
      ],
      "source": [
        "import os\n",
        "from google.colab import drive\n",
        "drive.mount('/content/gdrive')\n",
        "path ='/content/gdrive/My Drive/CIFAR10_ResNet'\n",
        "if not os.path.exists(path):\n",
        "  os.mkdir(path)\n",
        "os.chdir(path)"
      ]
    },
    {
      "cell_type": "markdown",
      "source": [
        "establish root path\n"
      ],
      "metadata": {
        "id": "5qSL5x_Njg1b"
      }
    },
    {
      "cell_type": "code",
      "source": [
        "# network class: fill in the network class if it is not available in torchvision.models"
      ],
      "metadata": {
        "id": "2fgCydJzjkzi"
      },
      "execution_count": null,
      "outputs": []
    },
    {
      "cell_type": "code",
      "source": [
        "class MyNetArgs:\n",
        "   \"\"\"\n",
        "    Passing the hyperparameters to the model\n",
        "   \"\"\"\n",
        "   def __init__(self ,epochs=200, start_epoch=0, batch_size=128, lr=0.1, momentum=0.9, weight_decay=1e-4, print_freq=55,\n",
        "                 evaluate=0,num_classes =10 ,pretrained=0, half=0, save_dir='save_temp', save_every=10):\n",
        "        self.save_every = save_every #Saves checkpoints at every specified number of epochs\n",
        "        self.save_dir = save_dir #The directory used to save the trained models\n",
        "        self.half = half #use half-precision(16-bit)\n",
        "        self.evaluate = evaluate #evaluate model on the validation set\n",
        "        self.pretrained = pretrained #evaluate the pretrained model on the validation set\n",
        "        self.print_freq = print_freq #print frequency \n",
        "        self.weight_decay = weight_decay\n",
        "        self.momentum = momentum \n",
        "        self.lr = lr #Learning rate\n",
        "        self.batch_size = batch_size \n",
        "        self.start_epoch = start_epoch\n",
        "        self.epochs = epochs\n",
        "        self.num_classes = num_classes\n",
        "        "
      ],
      "metadata": {
        "id": "Z9KDQcIZj7lS"
      },
      "execution_count": 4,
      "outputs": []
    },
    {
      "cell_type": "code",
      "source": [
        "from torchsummary import summary\n",
        "import torchvision.models as models\n",
        "import torch\n",
        "\n",
        "args=MyNetArgs(pretrained=0)\n",
        "device = torch.device(\"cuda\" if torch.cuda.is_available() else \"cpu\") \n",
        "model = models.resnet18(num_classes= args.num_classes, pretrained = args.pretrained).to(device)\n",
        "\n",
        "summary(model, (3,32,32))\n",
        "best_prec1 = 0\n",
        "\n"
      ],
      "metadata": {
        "colab": {
          "base_uri": "https://localhost:8080/"
        },
        "id": "aYiN3Ml3lxqA",
        "outputId": "d8e94be0-24b3-45ab-d934-5c86358e762f"
      },
      "execution_count": 10,
      "outputs": [
        {
          "output_type": "stream",
          "name": "stdout",
          "text": [
            "----------------------------------------------------------------\n",
            "        Layer (type)               Output Shape         Param #\n",
            "================================================================\n",
            "            Conv2d-1           [-1, 64, 16, 16]           9,408\n",
            "       BatchNorm2d-2           [-1, 64, 16, 16]             128\n",
            "              ReLU-3           [-1, 64, 16, 16]               0\n",
            "         MaxPool2d-4             [-1, 64, 8, 8]               0\n",
            "            Conv2d-5             [-1, 64, 8, 8]          36,864\n",
            "       BatchNorm2d-6             [-1, 64, 8, 8]             128\n",
            "              ReLU-7             [-1, 64, 8, 8]               0\n",
            "            Conv2d-8             [-1, 64, 8, 8]          36,864\n",
            "       BatchNorm2d-9             [-1, 64, 8, 8]             128\n",
            "             ReLU-10             [-1, 64, 8, 8]               0\n",
            "       BasicBlock-11             [-1, 64, 8, 8]               0\n",
            "           Conv2d-12             [-1, 64, 8, 8]          36,864\n",
            "      BatchNorm2d-13             [-1, 64, 8, 8]             128\n",
            "             ReLU-14             [-1, 64, 8, 8]               0\n",
            "           Conv2d-15             [-1, 64, 8, 8]          36,864\n",
            "      BatchNorm2d-16             [-1, 64, 8, 8]             128\n",
            "             ReLU-17             [-1, 64, 8, 8]               0\n",
            "       BasicBlock-18             [-1, 64, 8, 8]               0\n",
            "           Conv2d-19            [-1, 128, 4, 4]          73,728\n",
            "      BatchNorm2d-20            [-1, 128, 4, 4]             256\n",
            "             ReLU-21            [-1, 128, 4, 4]               0\n",
            "           Conv2d-22            [-1, 128, 4, 4]         147,456\n",
            "      BatchNorm2d-23            [-1, 128, 4, 4]             256\n",
            "           Conv2d-24            [-1, 128, 4, 4]           8,192\n",
            "      BatchNorm2d-25            [-1, 128, 4, 4]             256\n",
            "             ReLU-26            [-1, 128, 4, 4]               0\n",
            "       BasicBlock-27            [-1, 128, 4, 4]               0\n",
            "           Conv2d-28            [-1, 128, 4, 4]         147,456\n",
            "      BatchNorm2d-29            [-1, 128, 4, 4]             256\n",
            "             ReLU-30            [-1, 128, 4, 4]               0\n",
            "           Conv2d-31            [-1, 128, 4, 4]         147,456\n",
            "      BatchNorm2d-32            [-1, 128, 4, 4]             256\n",
            "             ReLU-33            [-1, 128, 4, 4]               0\n",
            "       BasicBlock-34            [-1, 128, 4, 4]               0\n",
            "           Conv2d-35            [-1, 256, 2, 2]         294,912\n",
            "      BatchNorm2d-36            [-1, 256, 2, 2]             512\n",
            "             ReLU-37            [-1, 256, 2, 2]               0\n",
            "           Conv2d-38            [-1, 256, 2, 2]         589,824\n",
            "      BatchNorm2d-39            [-1, 256, 2, 2]             512\n",
            "           Conv2d-40            [-1, 256, 2, 2]          32,768\n",
            "      BatchNorm2d-41            [-1, 256, 2, 2]             512\n",
            "             ReLU-42            [-1, 256, 2, 2]               0\n",
            "       BasicBlock-43            [-1, 256, 2, 2]               0\n",
            "           Conv2d-44            [-1, 256, 2, 2]         589,824\n",
            "      BatchNorm2d-45            [-1, 256, 2, 2]             512\n",
            "             ReLU-46            [-1, 256, 2, 2]               0\n",
            "           Conv2d-47            [-1, 256, 2, 2]         589,824\n",
            "      BatchNorm2d-48            [-1, 256, 2, 2]             512\n",
            "             ReLU-49            [-1, 256, 2, 2]               0\n",
            "       BasicBlock-50            [-1, 256, 2, 2]               0\n",
            "           Conv2d-51            [-1, 512, 1, 1]       1,179,648\n",
            "      BatchNorm2d-52            [-1, 512, 1, 1]           1,024\n",
            "             ReLU-53            [-1, 512, 1, 1]               0\n",
            "           Conv2d-54            [-1, 512, 1, 1]       2,359,296\n",
            "      BatchNorm2d-55            [-1, 512, 1, 1]           1,024\n",
            "           Conv2d-56            [-1, 512, 1, 1]         131,072\n",
            "      BatchNorm2d-57            [-1, 512, 1, 1]           1,024\n",
            "             ReLU-58            [-1, 512, 1, 1]               0\n",
            "       BasicBlock-59            [-1, 512, 1, 1]               0\n",
            "           Conv2d-60            [-1, 512, 1, 1]       2,359,296\n",
            "      BatchNorm2d-61            [-1, 512, 1, 1]           1,024\n",
            "             ReLU-62            [-1, 512, 1, 1]               0\n",
            "           Conv2d-63            [-1, 512, 1, 1]       2,359,296\n",
            "      BatchNorm2d-64            [-1, 512, 1, 1]           1,024\n",
            "             ReLU-65            [-1, 512, 1, 1]               0\n",
            "       BasicBlock-66            [-1, 512, 1, 1]               0\n",
            "AdaptiveAvgPool2d-67            [-1, 512, 1, 1]               0\n",
            "           Linear-68                   [-1, 10]           5,130\n",
            "================================================================\n",
            "Total params: 11,181,642\n",
            "Trainable params: 11,181,642\n",
            "Non-trainable params: 0\n",
            "----------------------------------------------------------------\n",
            "Input size (MB): 0.01\n",
            "Forward/backward pass size (MB): 1.29\n",
            "Params size (MB): 42.65\n",
            "Estimated Total Size (MB): 43.95\n",
            "----------------------------------------------------------------\n"
          ]
        }
      ]
    },
    {
      "cell_type": "code",
      "source": [
        "\n",
        "class AverageMeter(object):\n",
        "    \"\"\"Computes and stores the average and current value\"\"\"\n",
        "    def __init__(self):\n",
        "        self.reset()\n",
        "\n",
        "    def reset(self):\n",
        "        self.val = 0\n",
        "        self.avg = 0\n",
        "        self.sum = 0\n",
        "        self.count = 0\n",
        "\n",
        "    def update(self, val, n=1):\n",
        "        self.val = val\n",
        "        self.sum += val * n\n",
        "        self.count += n\n",
        "        self.avg = self.sum / self.count\n",
        "        \n",
        "def accuracy(output, target, topk=(1,)):\n",
        "    \"\"\"Computes the precision@k for the specified values of k\"\"\"\n",
        "    maxk = max(topk)\n",
        "    batch_size = target.size(0)\n",
        "\n",
        "    _, pred = output.topk(maxk, 1, True, True)\n",
        "    pred = pred.t()\n",
        "    correct = pred.eq(target.view(1, -1).expand_as(pred))\n",
        "\n",
        "    res = []\n",
        "    for k in topk:\n",
        "        correct_k = correct[:k].view(-1).float().sum(0)\n",
        "        res.append(correct_k.mul_(100.0 / batch_size))\n",
        "    return res"
      ],
      "metadata": {
        "id": "JdVi0-LJo03m"
      },
      "execution_count": 11,
      "outputs": []
    },
    {
      "cell_type": "code",
      "source": [
        "import time\n",
        "\n",
        "def train(train_loader, model, criterion, optimizer, epoch):\n",
        "    \"\"\"\n",
        "        Run one train epoch\n",
        "    \"\"\"\n",
        "    batch_time = AverageMeter()\n",
        "    data_time = AverageMeter()\n",
        "    losses = AverageMeter()\n",
        "    top1 = AverageMeter()\n",
        "\n",
        "    # switch to train mode\n",
        "    model.train()\n",
        "\n",
        "    end = time.time()\n",
        "    for i, (input, target) in enumerate(train_loader):\n",
        "\n",
        "        # measure data loading time\n",
        "        data_time.update(time.time() - end)\n",
        "\n",
        "        target = target.cuda()\n",
        "        input_var = input.cuda()\n",
        "        target_var = target\n",
        "        if args.half:\n",
        "            input_var = input_var.half()\n",
        "\n",
        "        # compute output\n",
        "        output = model(input_var)\n",
        "        loss = criterion(output, target_var)\n",
        "\n",
        "        # compute gradient and do SGD step\n",
        "        optimizer.zero_grad()\n",
        "        loss.backward()\n",
        "        optimizer.step()\n",
        "\n",
        "        output = output.float()\n",
        "        loss = loss.float()\n",
        "        # measure accuracy and record loss\n",
        "        prec1 = accuracy(output.data, target)[0]\n",
        "        losses.update(loss.item(), input.size(0))\n",
        "        top1.update(prec1.item(), input.size(0))\n",
        "\n",
        "        # measure elapsed time\n",
        "        batch_time.update(time.time() - end)\n",
        "        end = time.time()\n",
        "\n",
        "        if i % args.print_freq == 0:\n",
        "            print('Epoch: [{0}][{1}/{2}]\\t'\n",
        "                  'Loss {loss.val:.4f} ({loss.avg:.4f})\\t'\n",
        "                  'Prec@1 {top1.val:.3f} ({top1.avg:.3f})'.format(\n",
        "                      epoch, i, len(train_loader), batch_time=batch_time,\n",
        "                      data_time=data_time, loss=losses, top1=top1))"
      ],
      "metadata": {
        "id": "5rU8PbCnoorP"
      },
      "execution_count": 12,
      "outputs": []
    },
    {
      "cell_type": "code",
      "source": [
        "def validate(val_loader, model, criterion):\n",
        "    \"\"\"\n",
        "    Run evaluation\n",
        "    \"\"\"\n",
        "    batch_time = AverageMeter()\n",
        "    losses = AverageMeter()\n",
        "    top1 = AverageMeter()\n",
        "\n",
        "    # switch to evaluate mode\n",
        "    model.eval()\n",
        "\n",
        "    end = time.time()\n",
        "    with torch.no_grad():\n",
        "        for i, (input, target) in enumerate(val_loader):\n",
        "            target = target.cuda()\n",
        "            input_var = input.cuda()\n",
        "            target_var = target.cuda()\n",
        "\n",
        "            if args.half:\n",
        "                input_var = input_var.half()\n",
        "\n",
        "            # compute output\n",
        "            output = model(input_var)\n",
        "            loss = criterion(output, target_var)\n",
        "\n",
        "            output = output.float()\n",
        "            loss = loss.float()\n",
        "\n",
        "            # measure accuracy and record loss\n",
        "            prec1 = accuracy(output.data, target)[0]\n",
        "            losses.update(loss.item(), input.size(0))\n",
        "            top1.update(prec1.item(), input.size(0))\n",
        "\n",
        "            # measure elapsed time\n",
        "            batch_time.update(time.time() - end)\n",
        "            end = time.time()\n",
        "\n",
        "\n",
        "    print('Test\\t  Prec@1: {top1.avg:.3f} (Err: {error:.3f} )\\n'\n",
        "          .format(top1=top1,error=100-top1.avg))\n",
        "\n",
        "    return top1.avg\n",
        "\n",
        "def save_checkpoint(state, filename='checkpoint.th'):\n",
        "    \"\"\"\n",
        "    Save the training model\n",
        "    \"\"\"\n",
        "    torch.save(state, filename)"
      ],
      "metadata": {
        "id": "xnxctIIrpyGw"
      },
      "execution_count": 13,
      "outputs": []
    },
    {
      "cell_type": "code",
      "source": [
        "def get_statistics(trainloader):\n",
        "    mean = 0.\n",
        "    temp = 0.\n",
        "    for images, _ in trainloader:\n",
        "        batch_samples = images.size(0) # batch size (the last batch can have smaller size!)\n",
        "        images = images.view(batch_samples, images.size(1), -1)\n",
        "        mean += images.mean(2).sum(0)\n",
        "        temp += (images*images).mean(2).sum(0)\n",
        "\n",
        "    mean /= len(trainloader.dataset)\n",
        "    temp /= len(trainloader.dataset)\n",
        "    std = torch.sqrt(temp - mean*mean)\n",
        "    return mean.tolist(),std.tolist()"
      ],
      "metadata": {
        "id": "eNMfpjqOqdip"
      },
      "execution_count": 14,
      "outputs": []
    },
    {
      "cell_type": "code",
      "source": [
        "import torchvision\n",
        "import torchvision.transforms as transforms\n",
        "import torchvision.datasets as datasets\n",
        "import matplotlib.pyplot as plt\n",
        "\n",
        "\n",
        "pre_loader = torch.utils.data.DataLoader(\n",
        "        datasets.CIFAR10(root='./data', train=True, transform=transforms.Compose([\n",
        "            transforms.ToTensor(),\n",
        "        ]), download=True),\n",
        "        batch_size=args.batch_size, shuffle=False,\n",
        "        num_workers=4, pin_memory=True)\n",
        "\n",
        "mean , std = get_statistics(pre_loader)\n",
        "print('mean = '+ str(mean),\"std = \" +str(std))"
      ],
      "metadata": {
        "colab": {
          "base_uri": "https://localhost:8080/"
        },
        "id": "Yrt1InVvqhtT",
        "outputId": "5ca8cf15-c9cf-4822-cdd3-5cc842d81f2f"
      },
      "execution_count": 16,
      "outputs": [
        {
          "output_type": "stream",
          "name": "stdout",
          "text": [
            "Files already downloaded and verified\n"
          ]
        },
        {
          "output_type": "stream",
          "name": "stderr",
          "text": [
            "/usr/local/lib/python3.7/dist-packages/torch/utils/data/dataloader.py:481: UserWarning: This DataLoader will create 4 worker processes in total. Our suggested max number of worker in current system is 2, which is smaller than what this DataLoader is going to create. Please be aware that excessive worker creation might get DataLoader running slow or even freeze, lower the worker number to avoid potential slowness/freeze if necessary.\n",
            "  cpuset_checked))\n"
          ]
        },
        {
          "output_type": "stream",
          "name": "stdout",
          "text": [
            "mean = [0.4913996160030365, 0.48215851187705994, 0.44653093814849854] std = [0.2470323145389557, 0.24348483979701996, 0.26158782839775085]\n"
          ]
        }
      ]
    },
    {
      "cell_type": "code",
      "source": [
        "normalize = transforms.Normalize(mean = mean,std = std) #(mean=[0.485, 0.456, 0.406], std=[0.229, 0.224, 0.225])\n",
        "\n",
        "train_loader = torch.utils.data.DataLoader(\n",
        "        datasets.CIFAR10(root='./data', train=True, transform=transforms.Compose([\n",
        "            transforms.RandomHorizontalFlip(),\n",
        "            transforms.RandomCrop(32, 4),\n",
        "            transforms.ToTensor(),\n",
        "            normalize,\n",
        "        ]), download=True),\n",
        "        batch_size=args.batch_size, shuffle=True,\n",
        "        num_workers=4, pin_memory=True)\n",
        "\n",
        "val_loader = torch.utils.data.DataLoader(\n",
        "        datasets.CIFAR10(root='./data', train=False, transform=transforms.Compose([\n",
        "            transforms.ToTensor(),\n",
        "            normalize,\n",
        "        ])),\n",
        "        batch_size=128, shuffle=False,\n",
        "        num_workers=4, pin_memory=True)"
      ],
      "metadata": {
        "colab": {
          "base_uri": "https://localhost:8080/"
        },
        "id": "YbZwGk9vrxS4",
        "outputId": "9032f6f0-0ba1-4ca0-d3e3-facd169ce38d"
      },
      "execution_count": 18,
      "outputs": [
        {
          "output_type": "stream",
          "name": "stdout",
          "text": [
            "Files already downloaded and verified\n"
          ]
        },
        {
          "output_type": "stream",
          "name": "stderr",
          "text": [
            "/usr/local/lib/python3.7/dist-packages/torch/utils/data/dataloader.py:481: UserWarning: This DataLoader will create 4 worker processes in total. Our suggested max number of worker in current system is 2, which is smaller than what this DataLoader is going to create. Please be aware that excessive worker creation might get DataLoader running slow or even freeze, lower the worker number to avoid potential slowness/freeze if necessary.\n",
            "  cpuset_checked))\n"
          ]
        }
      ]
    },
    {
      "cell_type": "code",
      "source": [
        "import numpy as np\n",
        "classes = ('plane', 'car', 'bird', 'cat',\n",
        "           'deer', 'dog', 'frog', 'horse', 'ship', 'truck')\n",
        "\n",
        "# functions to show an image\n",
        "%matplotlib inline\n",
        "%config InlineBackend.figure_format = 'retina'\n",
        "def imshow(img):\n",
        "    img = img / 4 + 0.5     # unnormalize\n",
        "    npimg = img.numpy()\n",
        "    plt.imshow(np.transpose(npimg, (1, 2, 0)))\n",
        "\n",
        "\n",
        "# get some random training images\n",
        "dataiter = iter(train_loader)\n",
        "images, labels = dataiter.next()\n",
        "plt.figure(figsize=(20,10)) \n",
        "\n",
        "# show images\n",
        "imshow(torchvision.utils.make_grid(images[0:8,:,:]))\n",
        "# print labels\n",
        "print(' '.join('%15s' % classes[labels[j]] for j in range(8)))"
      ],
      "metadata": {
        "colab": {
          "base_uri": "https://localhost:8080/",
          "height": 286
        },
        "id": "CDmw3tQnvGWn",
        "outputId": "23fba543-9f3c-4c3f-b5cd-fe53a0c4abdb"
      },
      "execution_count": 19,
      "outputs": [
        {
          "output_type": "stream",
          "name": "stderr",
          "text": [
            "/usr/local/lib/python3.7/dist-packages/torch/utils/data/dataloader.py:481: UserWarning: This DataLoader will create 4 worker processes in total. Our suggested max number of worker in current system is 2, which is smaller than what this DataLoader is going to create. Please be aware that excessive worker creation might get DataLoader running slow or even freeze, lower the worker number to avoid potential slowness/freeze if necessary.\n",
            "  cpuset_checked))\n",
            "Clipping input data to the valid range for imshow with RGB data ([0..1] for floats or [0..255] for integers).\n"
          ]
        },
        {
          "output_type": "stream",
          "name": "stdout",
          "text": [
            "           deer             dog            bird            ship            ship            bird            bird            bird\n"
          ]
        },
        {
          "output_type": "display_data",
          "data": {
            "image/png": "[encoded data removed]",
            "text/plain": [
              "<Figure size 1440x720 with 1 Axes>"
            ]
          },
          "metadata": {
            "image/png": {
              "width": 1150,
              "height": 179
            },
            "needs_background": "light"
          }
        }
      ]
    },
    {
      "cell_type": "code",
      "source": [
        ""
      ],
      "metadata": {
        "id": "tvdZgrY5wSiG"
      },
      "execution_count": null,
      "outputs": []
    },
    {
      "cell_type": "markdown",
      "source": [
        "class dict and the mean/bias in imshow() only works for Cifar-10, shall change these values while applying different dataset."
      ],
      "metadata": {
        "id": "qvkR5E32v-iM"
      }
    },
    {
      "cell_type": "code",
      "source": [
        "import time\n",
        "import torch.nn as nn\n",
        "\n",
        "def main(model):\n",
        "    global args, best_prec1\n",
        "    \n",
        "    # Check the save_dir exists or not\n",
        "    if not os.path.exists(args.save_dir):\n",
        "        os.makedirs(args.save_dir)\n",
        "    # define loss function (criterion) and pptimizer\n",
        "    criterion = nn.CrossEntropyLoss().cuda()\n",
        "\n",
        "    if args.half:\n",
        "        print('half persicion is used.')\n",
        "        model.half()\n",
        "        criterion.half()\n",
        "    optimizer = torch.optim.SGD(model.parameters(), args.lr,\n",
        "                                momentum=args.momentum,\n",
        "                                weight_decay=args.weight_decay)\n",
        "\n",
        "    lr_scheduler = torch.optim.lr_scheduler.MultiStepLR(optimizer, milestones=[100, 150], last_epoch=args.start_epoch - 1)\n",
        "    model_path = os.path.join(args.save_dir, 'model.pth' )                                                  \n",
        "    if args.evaluate:\n",
        "        print('evalution mode')\n",
        "        model.load_state_dict(torch.load(model_path))\n",
        "        best_prec1 = validate(val_loader, model, criterion)\n",
        "        return best_prec1\n",
        "    ''' \n",
        "    if os.path.exists(model_path):\n",
        "        \n",
        "    \n",
        "        model.load_state_dict(torch.load(model_path))\n",
        "        best_prec1 = validate(val_loader, model, criterion)\n",
        "        return best_prec1\n",
        "    '''\n",
        "\n",
        "    for epoch in range(args.start_epoch, args.epochs):\n",
        "\n",
        "        # train for one epoch\n",
        "        \n",
        "        print('current lr {:.5e}'.format(optimizer.param_groups[0]['lr']))\n",
        "        train(train_loader, model, criterion, optimizer, epoch)\n",
        "        lr_scheduler.step()\n",
        "\n",
        "        # evaluate on validation set\n",
        "        prec1 = validate(val_loader, model, criterion)\n",
        "\n",
        "        # remember best prec@1 and save checkpoint\n",
        "        is_best = prec1 > best_prec1\n",
        "        best_prec1 = max(prec1, best_prec1)\n",
        "\n",
        "        if epoch > 0 and epoch % args.save_every == 0:\n",
        "            save_checkpoint(model.state_dict(), filename=os.path.join(args.save_dir, 'checkpoint.th'))\n",
        "        if is_best:\n",
        "            save_checkpoint(model.state_dict(), filename=os.path.join(args.save_dir, 'model.th'))\n",
        "\n",
        "    return best_prec1\n",
        "    \n"
      ],
      "metadata": {
        "id": "3gTaeIFtwTou"
      },
      "execution_count": 22,
      "outputs": []
    },
    {
      "cell_type": "code",
      "source": [
        "\n",
        "best_prec1 = main(model)\n",
        "print('The lowest error from {} model after {} epochs is {error:.3f}'.format(args.arch,args.epochs,error=100-best_prec1)) "
      ],
      "metadata": {
        "colab": {
          "base_uri": "https://localhost:8080/"
        },
        "id": "nvoEUiPO0acq",
        "outputId": "75964033-2f1f-4b6f-d03a-8e2cfd0ca9fb"
      },
      "execution_count": null,
      "outputs": [
        {
          "metadata": {
            "tags": null
          },
          "name": "stdout",
          "output_type": "stream",
          "text": [
            "current lr 1.00000e-01\n"
          ]
        },
        {
          "metadata": {
            "tags": null
          },
          "name": "stderr",
          "output_type": "stream",
          "text": [
            "/usr/local/lib/python3.7/dist-packages/torch/utils/data/dataloader.py:481: UserWarning: This DataLoader will create 4 worker processes in total. Our suggested max number of worker in current system is 2, which is smaller than what this DataLoader is going to create. Please be aware that excessive worker creation might get DataLoader running slow or even freeze, lower the worker number to avoid potential slowness/freeze if necessary.\n",
            "  cpuset_checked))\n"
          ]
        },
        {
          "output_type": "stream",
          "name": "stdout",
          "text": [
            "Epoch: [0][0/391]\tLoss 2.4222 (2.4222)\tPrec@1 12.500 (12.500)\n",
            "Epoch: [0][55/391]\tLoss 2.3581 (2.8724)\tPrec@1 27.344 (20.020)\n",
            "Epoch: [0][110/391]\tLoss 1.9126 (2.5199)\tPrec@1 25.781 (23.599)\n",
            "Epoch: [0][165/391]\tLoss 1.8416 (2.3425)\tPrec@1 28.906 (25.697)\n",
            "Epoch: [0][220/391]\tLoss 1.8365 (2.2290)\tPrec@1 35.938 (27.259)\n",
            "Epoch: [0][275/391]\tLoss 1.7093 (2.1381)\tPrec@1 32.812 (28.810)\n",
            "Epoch: [0][330/391]\tLoss 1.7479 (2.0647)\tPrec@1 36.719 (30.235)\n",
            "Epoch: [0][385/391]\tLoss 1.6527 (2.0079)\tPrec@1 45.312 (31.499)\n",
            "Test\t  Prec@1: 43.690 (Err: 56.310 )\n",
            "\n",
            "current lr 1.00000e-01\n",
            "Epoch: [1][0/391]\tLoss 1.6265 (1.6265)\tPrec@1 41.406 (41.406)\n",
            "Epoch: [1][55/391]\tLoss 1.4062 (1.5774)\tPrec@1 46.875 (42.439)\n",
            "Epoch: [1][110/391]\tLoss 1.6645 (1.5751)\tPrec@1 35.156 (42.188)\n",
            "Epoch: [1][165/391]\tLoss 1.4800 (1.5644)\tPrec@1 41.406 (42.555)\n",
            "Epoch: [1][220/391]\tLoss 1.4923 (1.5490)\tPrec@1 46.094 (43.184)\n",
            "Epoch: [1][275/391]\tLoss 1.3360 (1.5386)\tPrec@1 54.688 (43.467)\n",
            "Epoch: [1][330/391]\tLoss 1.3602 (1.5281)\tPrec@1 47.656 (43.863)\n",
            "Epoch: [1][385/391]\tLoss 1.3394 (1.5156)\tPrec@1 47.656 (44.466)\n",
            "Test\t  Prec@1: 50.210 (Err: 49.790 )\n",
            "\n",
            "current lr 1.00000e-01\n",
            "Epoch: [2][0/391]\tLoss 1.5303 (1.5303)\tPrec@1 46.094 (46.094)\n",
            "Epoch: [2][55/391]\tLoss 1.3657 (1.3950)\tPrec@1 45.312 (48.703)\n",
            "Epoch: [2][110/391]\tLoss 1.3418 (1.3894)\tPrec@1 52.344 (49.240)\n",
            "Epoch: [2][165/391]\tLoss 1.1955 (1.3799)\tPrec@1 54.688 (49.774)\n",
            "Epoch: [2][220/391]\tLoss 1.4434 (1.3675)\tPrec@1 45.312 (50.209)\n",
            "Epoch: [2][275/391]\tLoss 1.3159 (1.3574)\tPrec@1 50.781 (50.660)\n",
            "Epoch: [2][330/391]\tLoss 1.3016 (1.3481)\tPrec@1 54.688 (50.977)\n",
            "Epoch: [2][385/391]\tLoss 1.2009 (1.3377)\tPrec@1 57.031 (51.350)\n",
            "Test\t  Prec@1: 55.210 (Err: 44.790 )\n",
            "\n",
            "current lr 1.00000e-01\n",
            "Epoch: [3][0/391]\tLoss 1.3222 (1.3222)\tPrec@1 50.000 (50.000)\n",
            "Epoch: [3][55/391]\tLoss 1.1658 (1.2435)\tPrec@1 57.031 (55.008)\n",
            "Epoch: [3][110/391]\tLoss 1.0858 (1.2298)\tPrec@1 60.156 (55.532)\n",
            "Epoch: [3][165/391]\tLoss 1.3143 (1.2163)\tPrec@1 48.438 (56.142)\n",
            "Epoch: [3][220/391]\tLoss 1.2543 (1.2134)\tPrec@1 51.562 (56.077)\n",
            "Epoch: [3][275/391]\tLoss 1.2223 (1.2040)\tPrec@1 59.375 (56.618)\n",
            "Epoch: [3][330/391]\tLoss 1.2167 (1.1991)\tPrec@1 49.219 (56.816)\n",
            "Epoch: [3][385/391]\tLoss 0.9030 (1.1926)\tPrec@1 69.531 (57.001)\n",
            "Test\t  Prec@1: 62.530 (Err: 37.470 )\n",
            "\n",
            "current lr 1.00000e-01\n",
            "Epoch: [4][0/391]\tLoss 1.1565 (1.1565)\tPrec@1 61.719 (61.719)\n",
            "Epoch: [4][55/391]\tLoss 1.1147 (1.0959)\tPrec@1 63.281 (60.993)\n",
            "Epoch: [4][110/391]\tLoss 1.0841 (1.1027)\tPrec@1 62.500 (60.649)\n",
            "Epoch: [4][165/391]\tLoss 1.3174 (1.0929)\tPrec@1 51.562 (61.032)\n",
            "Epoch: [4][220/391]\tLoss 0.9115 (1.0917)\tPrec@1 68.750 (61.104)\n",
            "Epoch: [4][275/391]\tLoss 1.0213 (1.0885)\tPrec@1 58.594 (61.215)\n",
            "Epoch: [4][330/391]\tLoss 1.0316 (1.0789)\tPrec@1 61.719 (61.598)\n",
            "Epoch: [4][385/391]\tLoss 1.0405 (1.0728)\tPrec@1 63.281 (61.781)\n",
            "Test\t  Prec@1: 66.470 (Err: 33.530 )\n",
            "\n",
            "current lr 1.00000e-01\n",
            "Epoch: [5][0/391]\tLoss 1.0493 (1.0493)\tPrec@1 61.719 (61.719)\n",
            "Epoch: [5][55/391]\tLoss 0.8645 (1.0115)\tPrec@1 66.406 (63.351)\n",
            "Epoch: [5][110/391]\tLoss 1.0896 (1.0129)\tPrec@1 61.719 (63.943)\n",
            "Epoch: [5][165/391]\tLoss 1.0452 (1.0019)\tPrec@1 62.500 (64.232)\n",
            "Epoch: [5][220/391]\tLoss 1.0316 (1.0014)\tPrec@1 60.938 (64.356)\n",
            "Epoch: [5][275/391]\tLoss 1.0067 (0.9977)\tPrec@1 63.281 (64.515)\n",
            "Epoch: [5][330/391]\tLoss 0.9207 (0.9936)\tPrec@1 60.156 (64.575)\n",
            "Epoch: [5][385/391]\tLoss 0.9994 (0.9890)\tPrec@1 67.188 (64.824)\n",
            "Test\t  Prec@1: 67.280 (Err: 32.720 )\n",
            "\n",
            "current lr 1.00000e-01\n",
            "Epoch: [6][0/391]\tLoss 0.9436 (0.9436)\tPrec@1 64.844 (64.844)\n",
            "Epoch: [6][55/391]\tLoss 0.9513 (0.9405)\tPrec@1 64.062 (67.062)\n",
            "Epoch: [6][110/391]\tLoss 0.8537 (0.9324)\tPrec@1 71.875 (67.427)\n",
            "Epoch: [6][165/391]\tLoss 0.9457 (0.9289)\tPrec@1 66.406 (67.630)\n",
            "Epoch: [6][220/391]\tLoss 1.1456 (0.9336)\tPrec@1 60.938 (67.315)\n",
            "Epoch: [6][275/391]\tLoss 0.8708 (0.9332)\tPrec@1 68.750 (67.284)\n",
            "Epoch: [6][330/391]\tLoss 0.8586 (0.9324)\tPrec@1 73.438 (67.339)\n",
            "Epoch: [6][385/391]\tLoss 0.9205 (0.9313)\tPrec@1 67.969 (67.270)\n",
            "Test\t  Prec@1: 68.810 (Err: 31.190 )\n",
            "\n",
            "current lr 1.00000e-01\n",
            "Epoch: [7][0/391]\tLoss 1.0379 (1.0379)\tPrec@1 65.625 (65.625)\n",
            "Epoch: [7][55/391]\tLoss 0.7396 (0.8834)\tPrec@1 75.000 (69.043)\n",
            "Epoch: [7][110/391]\tLoss 0.8020 (0.8860)\tPrec@1 71.875 (68.905)\n",
            "Epoch: [7][165/391]\tLoss 0.8621 (0.8850)\tPrec@1 64.844 (68.934)\n",
            "Epoch: [7][220/391]\tLoss 0.8042 (0.8809)\tPrec@1 73.438 (69.157)\n",
            "Epoch: [7][275/391]\tLoss 0.7732 (0.8821)\tPrec@1 74.219 (69.226)\n",
            "Epoch: [7][330/391]\tLoss 0.8486 (0.8840)\tPrec@1 70.312 (69.047)\n",
            "Epoch: [7][385/391]\tLoss 0.8797 (0.8790)\tPrec@1 70.312 (69.274)\n",
            "Test\t  Prec@1: 67.550 (Err: 32.450 )\n",
            "\n",
            "current lr 1.00000e-01\n",
            "Epoch: [8][0/391]\tLoss 0.7310 (0.7310)\tPrec@1 79.688 (79.688)\n",
            "Epoch: [8][55/391]\tLoss 0.7781 (0.8165)\tPrec@1 75.000 (71.624)\n",
            "Epoch: [8][110/391]\tLoss 0.8535 (0.8244)\tPrec@1 67.969 (71.150)\n",
            "Epoch: [8][165/391]\tLoss 0.9058 (0.8328)\tPrec@1 68.750 (70.778)\n",
            "Epoch: [8][220/391]\tLoss 0.8694 (0.8228)\tPrec@1 71.875 (71.048)\n",
            "Epoch: [8][275/391]\tLoss 0.7919 (0.8244)\tPrec@1 69.531 (70.961)\n",
            "Epoch: [8][330/391]\tLoss 0.9021 (0.8231)\tPrec@1 66.406 (70.950)\n",
            "Epoch: [8][385/391]\tLoss 0.9527 (0.8259)\tPrec@1 67.969 (70.906)\n",
            "Test\t  Prec@1: 69.440 (Err: 30.560 )\n",
            "\n",
            "current lr 1.00000e-01\n",
            "Epoch: [9][0/391]\tLoss 0.7779 (0.7779)\tPrec@1 72.656 (72.656)\n",
            "Epoch: [9][55/391]\tLoss 0.7454 (0.7749)\tPrec@1 71.875 (73.117)\n",
            "Epoch: [9][110/391]\tLoss 0.8534 (0.7892)\tPrec@1 67.188 (72.438)\n",
            "Epoch: [9][165/391]\tLoss 0.7402 (0.7929)\tPrec@1 72.656 (72.426)\n",
            "Epoch: [9][220/391]\tLoss 0.6429 (0.7911)\tPrec@1 79.688 (72.462)\n",
            "Epoch: [9][275/391]\tLoss 0.6451 (0.7870)\tPrec@1 75.000 (72.535)\n",
            "Epoch: [9][330/391]\tLoss 0.8801 (0.7878)\tPrec@1 72.656 (72.517)\n",
            "Epoch: [9][385/391]\tLoss 0.6557 (0.7894)\tPrec@1 75.781 (72.448)\n",
            "Test\t  Prec@1: 72.810 (Err: 27.190 )\n",
            "\n",
            "current lr 1.00000e-01\n",
            "Epoch: [10][0/391]\tLoss 0.6485 (0.6485)\tPrec@1 75.000 (75.000)\n",
            "Epoch: [10][55/391]\tLoss 0.7219 (0.7667)\tPrec@1 76.562 (73.158)\n",
            "Epoch: [10][110/391]\tLoss 0.9197 (0.7600)\tPrec@1 67.188 (73.430)\n",
            "Epoch: [10][165/391]\tLoss 0.7515 (0.7577)\tPrec@1 72.656 (73.386)\n",
            "Epoch: [10][220/391]\tLoss 0.9738 (0.7558)\tPrec@1 69.531 (73.660)\n",
            "Epoch: [10][275/391]\tLoss 0.7796 (0.7588)\tPrec@1 72.656 (73.554)\n",
            "Epoch: [10][330/391]\tLoss 0.7534 (0.7615)\tPrec@1 71.875 (73.466)\n",
            "Epoch: [10][385/391]\tLoss 0.7637 (0.7611)\tPrec@1 76.562 (73.504)\n",
            "Test\t  Prec@1: 74.360 (Err: 25.640 )\n",
            "\n",
            "current lr 1.00000e-01\n",
            "Epoch: [11][0/391]\tLoss 0.7679 (0.7679)\tPrec@1 75.000 (75.000)\n",
            "Epoch: [11][55/391]\tLoss 0.6958 (0.7247)\tPrec@1 77.344 (75.140)\n",
            "Epoch: [11][110/391]\tLoss 0.7511 (0.7270)\tPrec@1 76.562 (74.894)\n",
            "Epoch: [11][165/391]\tLoss 0.7774 (0.7313)\tPrec@1 71.094 (74.595)\n",
            "Epoch: [11][220/391]\tLoss 0.7178 (0.7291)\tPrec@1 75.000 (74.703)\n",
            "Epoch: [11][275/391]\tLoss 0.5885 (0.7264)\tPrec@1 79.688 (74.805)\n",
            "Epoch: [11][330/391]\tLoss 0.6676 (0.7270)\tPrec@1 77.344 (74.733)\n",
            "Epoch: [11][385/391]\tLoss 0.7013 (0.7278)\tPrec@1 75.781 (74.660)\n",
            "Test\t  Prec@1: 74.460 (Err: 25.540 )\n",
            "\n",
            "current lr 1.00000e-01\n",
            "Epoch: [12][0/391]\tLoss 0.7010 (0.7010)\tPrec@1 73.438 (73.438)\n",
            "Epoch: [12][55/391]\tLoss 0.6945 (0.7028)\tPrec@1 80.469 (76.158)\n",
            "Epoch: [12][110/391]\tLoss 0.5780 (0.7106)\tPrec@1 80.469 (75.711)\n",
            "Epoch: [12][165/391]\tLoss 0.5489 (0.7120)\tPrec@1 77.344 (75.400)\n",
            "Epoch: [12][220/391]\tLoss 0.6895 (0.7093)\tPrec@1 77.344 (75.452)\n",
            "Epoch: [12][275/391]\tLoss 0.6523 (0.7089)\tPrec@1 74.219 (75.427)\n",
            "Epoch: [12][330/391]\tLoss 0.8165 (0.7086)\tPrec@1 69.531 (75.434)\n",
            "Epoch: [12][385/391]\tLoss 0.6558 (0.7066)\tPrec@1 76.562 (75.466)\n",
            "Test\t  Prec@1: 75.940 (Err: 24.060 )\n",
            "\n",
            "current lr 1.00000e-01\n",
            "Epoch: [13][0/391]\tLoss 0.5566 (0.5566)\tPrec@1 82.031 (82.031)\n",
            "Epoch: [13][55/391]\tLoss 0.7829 (0.6774)\tPrec@1 70.312 (76.702)\n",
            "Epoch: [13][110/391]\tLoss 0.4590 (0.6751)\tPrec@1 82.031 (76.520)\n",
            "Epoch: [13][165/391]\tLoss 0.6689 (0.6838)\tPrec@1 76.562 (76.073)\n",
            "Epoch: [13][220/391]\tLoss 0.6619 (0.6842)\tPrec@1 75.000 (76.142)\n",
            "Epoch: [13][275/391]\tLoss 0.7108 (0.6845)\tPrec@1 74.219 (76.186)\n",
            "Epoch: [13][330/391]\tLoss 0.4771 (0.6848)\tPrec@1 83.594 (76.138)\n",
            "Epoch: [13][385/391]\tLoss 0.9591 (0.6842)\tPrec@1 69.531 (76.269)\n",
            "Test\t  Prec@1: 74.980 (Err: 25.020 )\n",
            "\n",
            "current lr 1.00000e-01\n",
            "Epoch: [14][0/391]\tLoss 0.6270 (0.6270)\tPrec@1 78.125 (78.125)\n",
            "Epoch: [14][55/391]\tLoss 0.6606 (0.6466)\tPrec@1 76.562 (77.483)\n",
            "Epoch: [14][110/391]\tLoss 0.6307 (0.6599)\tPrec@1 79.688 (76.978)\n",
            "Epoch: [14][165/391]\tLoss 0.8288 (0.6616)\tPrec@1 74.219 (76.873)\n",
            "Epoch: [14][220/391]\tLoss 0.6091 (0.6608)\tPrec@1 78.906 (76.859)\n",
            "Epoch: [14][275/391]\tLoss 0.5296 (0.6625)\tPrec@1 80.469 (76.684)\n",
            "Epoch: [14][330/391]\tLoss 0.6674 (0.6630)\tPrec@1 73.438 (76.699)\n",
            "Epoch: [14][385/391]\tLoss 0.7577 (0.6670)\tPrec@1 74.219 (76.609)\n",
            "Test\t  Prec@1: 76.180 (Err: 23.820 )\n",
            "\n",
            "current lr 1.00000e-01\n",
            "Epoch: [15][0/391]\tLoss 0.5903 (0.5903)\tPrec@1 77.344 (77.344)\n",
            "Epoch: [15][55/391]\tLoss 0.6904 (0.6458)\tPrec@1 76.562 (77.748)\n",
            "Epoch: [15][110/391]\tLoss 0.5990 (0.6313)\tPrec@1 78.906 (78.181)\n",
            "Epoch: [15][165/391]\tLoss 0.5826 (0.6426)\tPrec@1 78.906 (77.636)\n",
            "Epoch: [15][220/391]\tLoss 0.8276 (0.6426)\tPrec@1 70.312 (77.697)\n",
            "Epoch: [15][275/391]\tLoss 0.5344 (0.6416)\tPrec@1 82.031 (77.785)\n",
            "Epoch: [15][330/391]\tLoss 0.6702 (0.6399)\tPrec@1 77.344 (77.773)\n",
            "Epoch: [15][385/391]\tLoss 0.6298 (0.6397)\tPrec@1 75.000 (77.795)\n",
            "Test\t  Prec@1: 77.130 (Err: 22.870 )\n",
            "\n",
            "current lr 1.00000e-01\n",
            "Epoch: [16][0/391]\tLoss 0.6618 (0.6618)\tPrec@1 76.562 (76.562)\n",
            "Epoch: [16][55/391]\tLoss 0.5590 (0.6122)\tPrec@1 83.594 (78.934)\n",
            "Epoch: [16][110/391]\tLoss 0.6364 (0.6257)\tPrec@1 77.344 (78.216)\n",
            "Epoch: [16][165/391]\tLoss 0.6474 (0.6293)\tPrec@1 78.906 (78.214)\n",
            "Epoch: [16][220/391]\tLoss 0.5951 (0.6266)\tPrec@1 78.125 (78.319)\n",
            "Epoch: [16][275/391]\tLoss 0.6609 (0.6299)\tPrec@1 80.469 (78.176)\n",
            "Epoch: [16][330/391]\tLoss 0.6691 (0.6282)\tPrec@1 78.906 (78.326)\n",
            "Epoch: [16][385/391]\tLoss 0.6520 (0.6282)\tPrec@1 76.562 (78.257)\n",
            "Test\t  Prec@1: 76.900 (Err: 23.100 )\n",
            "\n",
            "current lr 1.00000e-01\n",
            "Epoch: [17][0/391]\tLoss 0.5583 (0.5583)\tPrec@1 80.469 (80.469)\n",
            "Epoch: [17][55/391]\tLoss 0.4892 (0.6100)\tPrec@1 84.375 (78.432)\n",
            "Epoch: [17][110/391]\tLoss 0.5293 (0.6222)\tPrec@1 79.688 (78.104)\n",
            "Epoch: [17][165/391]\tLoss 0.5981 (0.6125)\tPrec@1 78.906 (78.643)\n",
            "Epoch: [17][220/391]\tLoss 0.7527 (0.6145)\tPrec@1 74.219 (78.542)\n",
            "Epoch: [17][275/391]\tLoss 0.6567 (0.6101)\tPrec@1 77.344 (78.680)\n",
            "Epoch: [17][330/391]\tLoss 0.7484 (0.6148)\tPrec@1 70.312 (78.522)\n",
            "Epoch: [17][385/391]\tLoss 0.5660 (0.6165)\tPrec@1 80.469 (78.534)\n",
            "Test\t  Prec@1: 76.900 (Err: 23.100 )\n",
            "\n",
            "current lr 1.00000e-01\n",
            "Epoch: [18][0/391]\tLoss 0.5733 (0.5733)\tPrec@1 78.906 (78.906)\n",
            "Epoch: [18][55/391]\tLoss 0.5624 (0.5837)\tPrec@1 74.219 (79.129)\n",
            "Epoch: [18][110/391]\tLoss 0.6994 (0.5939)\tPrec@1 75.781 (79.146)\n",
            "Epoch: [18][165/391]\tLoss 0.4302 (0.5959)\tPrec@1 85.156 (79.212)\n",
            "Epoch: [18][220/391]\tLoss 0.6892 (0.5942)\tPrec@1 78.906 (79.412)\n",
            "Epoch: [18][275/391]\tLoss 0.5557 (0.5961)\tPrec@1 74.219 (79.325)\n",
            "Epoch: [18][330/391]\tLoss 0.6495 (0.5993)\tPrec@1 81.250 (79.230)\n",
            "Epoch: [18][385/391]\tLoss 0.5956 (0.6009)\tPrec@1 76.562 (79.143)\n",
            "Test\t  Prec@1: 78.070 (Err: 21.930 )\n",
            "\n",
            "current lr 1.00000e-01\n",
            "Epoch: [19][0/391]\tLoss 0.4828 (0.4828)\tPrec@1 82.812 (82.812)\n",
            "Epoch: [19][55/391]\tLoss 0.5466 (0.5717)\tPrec@1 82.031 (80.413)\n"
          ]
        }
      ]
    }
  ]
}