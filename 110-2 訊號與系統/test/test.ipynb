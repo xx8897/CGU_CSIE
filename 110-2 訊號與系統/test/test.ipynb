{
  "nbformat": 4,
  "nbformat_minor": 0,
  "metadata": {
    "colab": {
      "name": "test.ipynb",
      "provenance": []
    },
    "kernelspec": {
      "name": "python3",
      "display_name": "Python 3"
    },
    "language_info": {
      "name": "python"
    }
  },
  "cells": [
    {
      "cell_type": "code",
      "execution_count": null,
      "metadata": {
        "id": "GS3j0SIRjFY7"
      },
      "outputs": [],
      "source": [
        "# Get thinkdsp.py\n",
        "\n",
        "import os\n",
        "\n",
        "if not os.path.exists('thinkdsp.py'):\n",
        "    !wget https://github.com/AllenDowney/ThinkDSP/raw/master/code/thinkdsp.py"
      ]
    },
    {
      "cell_type": "code",
      "source": [
        "import numpy as np\n",
        "import matplotlib.pyplot as plt\n",
        "\n",
        "from thinkdsp import decorate\n",
        "from thinkdsp import read_wave\n",
        "import numpy as np"
      ],
      "metadata": {
        "id": "Ewu-nj_2lhDX"
      },
      "execution_count": null,
      "outputs": []
    },
    {
      "cell_type": "markdown",
      "source": [
        "## 4"
      ],
      "metadata": {
        "id": "9N6yE3E9-r8x"
      }
    },
    {
      "cell_type": "code",
      "source": [
        "x = np.array([1,1,1,1])\n",
        "X = np.fft.fft(x)\n",
        "X"
      ],
      "metadata": {
        "colab": {
          "base_uri": "https://localhost:8080/"
        },
        "id": "w2PHDNcxzv0f",
        "outputId": "c39b95ac-b8b2-4133-b9c0-945dbed6a397"
      },
      "execution_count": null,
      "outputs": [
        {
          "output_type": "execute_result",
          "data": {
            "text/plain": [
              "array([4.+0.j, 0.+0.j, 0.+0.j, 0.+0.j])"
            ]
          },
          "metadata": {},
          "execution_count": 9
        }
      ]
    },
    {
      "cell_type": "code",
      "source": [
        "np.fft.ifft(X)"
      ],
      "metadata": {
        "colab": {
          "base_uri": "https://localhost:8080/"
        },
        "id": "XbAQ8bUz0DWR",
        "outputId": "114ba064-dc59-49de-f460-1c8f252ab643"
      },
      "execution_count": null,
      "outputs": [
        {
          "output_type": "execute_result",
          "data": {
            "text/plain": [
              "array([1.+0.j, 1.+0.j, 1.+0.j, 1.+0.j])"
            ]
          },
          "metadata": {},
          "execution_count": 10
        }
      ]
    },
    {
      "cell_type": "markdown",
      "source": [
        "## 5"
      ],
      "metadata": {
        "id": "xW4KuMkD-utE"
      }
    },
    {
      "cell_type": "code",
      "source": [
        "def myDFT(x, inverst=False):\n",
        "  if not inverst:\n",
        "    return np.fft.fft(x)\n",
        "  return np.fft.ifft(x)"
      ],
      "metadata": {
        "id": "FoI1bZG58EXT"
      },
      "execution_count": null,
      "outputs": []
    },
    {
      "cell_type": "markdown",
      "source": [
        "## 6"
      ],
      "metadata": {
        "id": "FzgUgQ55-xHw"
      }
    },
    {
      "cell_type": "code",
      "source": [
        "from thinkdsp import CosSignal\n",
        "\n",
        "sig = CosSignal(freq=100)\n",
        "# sig.plot()\n",
        "wave = sig.make_wave(duration=10,framerate=1000)\n",
        "# wave.plot()\n",
        "X = myDFT(wave.ys)\n",
        "plt.plot(X)"
      ],
      "metadata": {
        "colab": {
          "base_uri": "https://localhost:8080/",
          "height": 317
        },
        "id": "0VscJjAL8dzm",
        "outputId": "500e57fa-5aa0-40b8-b76d-7afb2d59c9c2"
      },
      "execution_count": null,
      "outputs": [
        {
          "output_type": "stream",
          "name": "stderr",
          "text": [
            "/usr/local/lib/python3.7/dist-packages/matplotlib/cbook/__init__.py:1317: ComplexWarning: Casting complex values to real discards the imaginary part\n",
            "  return np.asarray(x, float)\n"
          ]
        },
        {
          "output_type": "execute_result",
          "data": {
            "text/plain": [
              "[<matplotlib.lines.Line2D at 0x7fe50260e250>]"
            ]
          },
          "metadata": {},
          "execution_count": 13
        },
        {
          "output_type": "display_data",
          "data": {
            "text/plain": [
              "<Figure size 432x288 with 1 Axes>"
            ],
            "image/png": "[encoded data removed]"
          },
          "metadata": {
            "needs_background": "light"
          }
        }
      ]
    },
    {
      "cell_type": "markdown",
      "source": [
        "## 8"
      ],
      "metadata": {
        "id": "VuIx_1yx__QW"
      }
    },
    {
      "cell_type": "code",
      "source": [
        "from thinkdsp import Wave\n",
        "w1 = Wave(np.array([1,1,1,1]))\n",
        "w2 = Wave(np.array([1,2,3,4,5]))\n",
        "w1.convolve(w2).ys"
      ],
      "metadata": {
        "colab": {
          "base_uri": "https://localhost:8080/"
        },
        "id": "W5bw48-n__5C",
        "outputId": "873b79d0-2fc2-4080-cd3e-02b3c22d0776"
      },
      "execution_count": 16,
      "outputs": [
        {
          "output_type": "execute_result",
          "data": {
            "text/plain": [
              "array([ 1,  3,  6, 10, 14, 12,  9,  5])"
            ]
          },
          "metadata": {},
          "execution_count": 16
        }
      ]
    },
    {
      "cell_type": "markdown",
      "source": [
        "## 9"
      ],
      "metadata": {
        "id": "GKZ5Tb37Bx_c"
      }
    },
    {
      "cell_type": "code",
      "source": [
        "def myConvolution(x,y):\n",
        "  return np.convolve(x,y)"
      ],
      "metadata": {
        "id": "kc2RPecpBxbP"
      },
      "execution_count": 17,
      "outputs": []
    }
  ]
}