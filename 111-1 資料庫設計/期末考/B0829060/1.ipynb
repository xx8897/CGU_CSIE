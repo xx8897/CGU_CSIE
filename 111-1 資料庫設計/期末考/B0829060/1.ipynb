{
  "nbformat": 4,
  "nbformat_minor": 0,
  "metadata": {
    "colab": {
      "provenance": []
    },
    "kernelspec": {
      "name": "python3",
      "display_name": "Python 3"
    },
    "language_info": {
      "name": "python"
    }
  },
  "cells": [
    {
      "cell_type": "code",
      "execution_count": 1,
      "metadata": {
        "colab": {
          "base_uri": "https://localhost:8080/"
        },
        "id": "JtqI2ELP0U6A",
        "outputId": "91089987-b0ae-4c6b-c52c-ded707615dcf"
      },
      "outputs": [
        {
          "output_type": "stream",
          "name": "stdout",
          "text": [
            "Looking in indexes: https://pypi.org/simple, https://us-python.pkg.dev/colab-wheels/public/simple/\n",
            "Requirement already satisfied: beautifulsoup4 in /usr/local/lib/python3.8/dist-packages (4.6.3)\n",
            "Looking in indexes: https://pypi.org/simple, https://us-python.pkg.dev/colab-wheels/public/simple/\n",
            "Requirement already satisfied: requests in /usr/local/lib/python3.8/dist-packages (2.23.0)\n",
            "Requirement already satisfied: chardet<4,>=3.0.2 in /usr/local/lib/python3.8/dist-packages (from requests) (3.0.4)\n",
            "Requirement already satisfied: urllib3!=1.25.0,!=1.25.1,<1.26,>=1.21.1 in /usr/local/lib/python3.8/dist-packages (from requests) (1.24.3)\n",
            "Requirement already satisfied: idna<3,>=2.5 in /usr/local/lib/python3.8/dist-packages (from requests) (2.10)\n",
            "Requirement already satisfied: certifi>=2017.4.17 in /usr/local/lib/python3.8/dist-packages (from requests) (2022.12.7)\n"
          ]
        }
      ],
      "source": [
        "!pip install beautifulsoup4\n",
        "!pip install requests"
      ]
    },
    {
      "cell_type": "code",
      "source": [
        "import requests\n",
        "from bs4 import BeautifulSoup\n"
      ],
      "metadata": {
        "id": "sOEEWWLl0clz"
      },
      "execution_count": 2,
      "outputs": []
    },
    {
      "cell_type": "code",
      "source": [
        "req = requests.get(\"https://www.ettoday.net/news/news-list.htm\")\n",
        "soup = BeautifulSoup(req.text, 'lxml')\n",
        "#print(soup.prettify()) # 先人工辨識頁面\n",
        "\n",
        "elem = soup.select(\".part_list_2\")\n",
        "title_list = []\n",
        "date_list = []\n",
        "cate_list = []\n",
        "link_list = []\n",
        "for e in elem:\n",
        "    title_list = [title.text for title in e.select(\"a\")]\n",
        "    \n",
        "\n",
        "for i in range(0,10):\n",
        "  print(title_list[i])"
      ],
      "metadata": {
        "colab": {
          "base_uri": "https://localhost:8080/"
        },
        "id": "nB3EOjfH0gPD",
        "outputId": "9c148cdc-44ca-4994-8cd5-791247bbcfe4"
      },
      "execution_count": 3,
      "outputs": [
        {
          "output_type": "stream",
          "name": "stdout",
          "text": [
            "國泰金現增股出籠　股價開盤小漲！\n",
            "「見見」怎麼念建商解惑　案名太生硬網友也傻眼\n",
            "雅速達惡火釀4死！前年「員工被壓成重傷」　廠長判刑昨命喪火窟\n",
            "買小套房要注意什麼？　達人曝「5種」提高貸款成數法\n",
            "台中「還願男」再涉一案！　台南4宮廟天公爐被埋生雞頭\n",
            "看電影爆衝突「拉衣領跩到螢幕前」！　目擊者：爆米花噴飛\n",
            "雅速達工廠惡火釀4死全在2樓　消防現場驚見大量化學物品\n",
            "深夜突發性氣喘！網紅「白血球飆高」緊急住院　直播全面暫停\n",
            "高雄又爆槍響！員警清槍不慎「誤擊發子彈」　火速懲處記過一次\n",
            "失智老浪犬天冷被細繩綑綁受困　里長不忍送收容所霸氣收編\n"
          ]
        }
      ]
    }
  ]
}