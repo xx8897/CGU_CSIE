{
  "nbformat": 4,
  "nbformat_minor": 0,
  "metadata": {
    "colab": {
      "name": "hw5.ipynb",
      "provenance": []
    },
    "kernelspec": {
      "name": "python3",
      "display_name": "Python 3"
    },
    "language_info": {
      "name": "python"
    }
  },
  "cells": [
    {
      "cell_type": "code",
      "execution_count": null,
      "metadata": {
        "id": "-3bUMPTQQDK2"
      },
      "outputs": [],
      "source": [
        "\n",
        "def get_statistics(trainloader):\n",
        "    mean = 0.\n",
        "    temp = 0.\n",
        "    for images, _ in trainloader:\n",
        "        batch_samples = images.size(0) # batch size (the last batch can have smaller size!)\n",
        "        images = images.view(batch_samples, images.size(1), -1)\n",
        "        mean += images.mean(2).sum(0)\n",
        "        temp += (images*images).mean(2).sum(0)\n",
        "\n",
        "    mean /= len(trainloader.dataset)\n",
        "    temp /= len(trainloader.dataset)\n",
        "    std = torch.sqrt(temp - mean*mean)\n",
        "    return mean.tolist(),std.tolist()"
      ]
    },
    {
      "cell_type": "markdown",
      "source": [
        "After that, we can use mean , std = get_statistics(trainloader)\n",
        "transform = transforms.Compose( [transforms.ToTensor() ,\n",
        "     transforms.Normalize(mean,std)])"
      ],
      "metadata": {
        "id": "iRiVSxEyTqcq"
      }
    },
    {
      "cell_type": "code",
      "source": [
        "import torchvision.models as models\n",
        "\n",
        "net = models.vgg16_bn(pretrained = False, num_classes =10) #models.vgg16(pretrained = False, num_classes =10)"
      ],
      "metadata": {
        "id": "_pjqp-F5XZzo"
      },
      "execution_count": null,
      "outputs": []
    },
    {
      "cell_type": "markdown",
      "source": [
        "hw5: use https://colab.research.google.com/github/seyrankhademi/ResNet_CIFAR10/blob/master/CIFAR10_ResNet.ipynb#scrollTo=OONRZVaZtP0f , but replace the network architecture to VGG16 with batch normalization (see vgg16_bn the above). \n"
      ],
      "metadata": {
        "id": "Lg0ULuFGsp-g"
      }
    },
    {
      "cell_type": "code",
      "source": [
        ""
      ],
      "metadata": {
        "id": "n8OlC0glsn6J"
      },
      "execution_count": null,
      "outputs": []
    }
  ]
}